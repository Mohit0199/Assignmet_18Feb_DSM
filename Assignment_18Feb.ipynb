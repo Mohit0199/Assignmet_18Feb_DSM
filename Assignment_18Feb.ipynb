{
 "cells": [
  {
   "cell_type": "code",
   "execution_count": 1,
   "id": "72a6b926-81b8-4ae1-80b7-f408d29bc4af",
   "metadata": {},
   "outputs": [],
   "source": [
    "# Q1. What is an API? Give an example, where an API is used in real life.\n",
    "\n",
    "## An API (Application Programming Interface) is a set of rules and protocols that allow\n",
    "## different software applications to communicate with each other.\n",
    "## A common example of an API in real life is the integration of Google Maps into various applications.\n",
    "## When we use a service Uber the application uses the Google Maps API to display maps, calculate routes,\n",
    "## and provide real-time traffic information. "
   ]
  },
  {
   "cell_type": "code",
   "execution_count": 2,
   "id": "3d4b2c1c-34a7-4aa6-8fe3-2253bdf43486",
   "metadata": {},
   "outputs": [],
   "source": [
    "# Q2. Give advantages and disadvantages of using API. \n",
    "\n",
    "## Advantages of Using APIs:\n",
    "## Integration: Facilitate seamless communication between different systems and applications.\n",
    "## Efficiency: Reduce development time by reusing existing functionalities.\n",
    "## Scalability: Support handling of increased loads and consistent performance.\n",
    "## Flexibility: Allow selective integration of specific functionalities.\n",
    "## Enhanced User Experience: Improve functionality by integrating third-party services.\n",
    "## Security: Provide controlled access through authentication and authorization mechanisms.\n",
    "\n",
    "## Disadvantages of Using APIs:\n",
    "## Complexity: Require a good understanding for implementation and management.\n",
    "## Dependency: Risk of issues if third-party services change or become unavailable.\n",
    "## Latency: Can introduce delays, affecting application performance.\n",
    "## Security Risks: Potential vulnerabilities if not properly managed.\n",
    "## Cost: Usage-based costs can be expensive.\n",
    "## Maintenance: Ongoing effort needed to manage version changes and compatibility."
   ]
  },
  {
   "cell_type": "code",
   "execution_count": 3,
   "id": "9a0474b5-93b6-4050-b31c-e2c855259f22",
   "metadata": {},
   "outputs": [],
   "source": [
    "# Q3. What is a Web API? Differentiate between API and Web API.\n",
    "\n",
    "## A Web API, or Web Application Programming Interface, is an interface implemented over the web using\n",
    "## standard protocols and technologies such as HTTP, REST, SOAP, or GraphQL.\n",
    "## It allows different software applications to communicate and interact with each other over the internet.\n",
    "\n",
    "## API (Application Programming Interface) is a generic term for interfaces allowing software components to communicate.\n",
    "## It can be local or remote, using various protocols.\n",
    "\n",
    "## Web API (Web Application Programming Interface is a specifically implemented over the web, accessed via HTTP requests\n",
    "## and primarily used for web-based communication."
   ]
  },
  {
   "cell_type": "code",
   "execution_count": 4,
   "id": "b1d357a9-3f95-4f93-9419-6a11aa63db65",
   "metadata": {},
   "outputs": [],
   "source": [
    "# Q4. Explain REST and SOAP Architecture. Mention shortcomings of SOAP.\n",
    "\n",
    "## REST Architecture:\n",
    "## Principles: Simple, scalable, stateless.\n",
    "## Resources: Identified by URLs.\n",
    "## HTTP Methods: Use standard HTTP methods (GET, POST, PUT, DELETE).\n",
    "## Representation: Resources can have multiple representations (e.g., JSON, XML).\n",
    "## Uniform Interface: Promotes consistency and scalability.\n",
    "\n",
    "## SOAP Architecture:\n",
    "## XML-based Messaging: Messages formatted using XML.\n",
    "## WSDL: Defines message structure and provides a description of the service.\n",
    "## RPC: Supports remote procedure calls.\n",
    "## Stateful Interaction: Allows for stateful communication.\n",
    "## Security: Supports encryption and digital signatures.\n",
    "\n",
    "## Shortcomings of SOAP:\n",
    "## Complexity: Verbose XML formatting.\n",
    "## Performance Overhead: Resource-intensive XML parsing.\n",
    "## Interoperability: Less interoperable than REST.\n",
    "## Tightly Coupled: Creates tightly coupled systems.\n",
    "## Limited Web Standards Support: Less aligned with web standards compared to REST."
   ]
  },
  {
   "cell_type": "code",
   "execution_count": 5,
   "id": "69f45a69-63df-47cd-81d2-b8036c792202",
   "metadata": {},
   "outputs": [],
   "source": [
    "# Q5. Differentiate between REST and SOAP.\n",
    "\n",
    "## REST is an architectural style that emphasizes simplicity and scalability, using standard web protocols and\n",
    "## lightweight message formats. SOAP, on the other hand, is a protocol for exchanging structured information,\n",
    "## typically using XML-based messaging and supporting more complex interactions.\n",
    "## REST is often preferred for its simplicity, flexibility, and interoperability,\n",
    "## while SOAP may be chosen for its support of more complex requirements and stateful interactions."
   ]
  },
  {
   "cell_type": "code",
   "execution_count": null,
   "id": "435fcd8b-fcf4-4f58-9a8f-051b069dd797",
   "metadata": {},
   "outputs": [],
   "source": []
  },
  {
   "cell_type": "code",
   "execution_count": null,
   "id": "2cab61be-c45c-4c34-bd1c-1c081ac69668",
   "metadata": {},
   "outputs": [],
   "source": []
  }
 ],
 "metadata": {
  "kernelspec": {
   "display_name": "Python 3 (ipykernel)",
   "language": "python",
   "name": "python3"
  },
  "language_info": {
   "codemirror_mode": {
    "name": "ipython",
    "version": 3
   },
   "file_extension": ".py",
   "mimetype": "text/x-python",
   "name": "python",
   "nbconvert_exporter": "python",
   "pygments_lexer": "ipython3",
   "version": "3.10.8"
  }
 },
 "nbformat": 4,
 "nbformat_minor": 5
}
